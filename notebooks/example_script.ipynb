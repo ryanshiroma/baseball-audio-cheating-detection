{
 "cells": [
  {
   "cell_type": "code",
   "execution_count": null,
   "source": [
    "import numpy as np\n",
    "import pandas as pd\n",
    "from sklearn.model_selection import train_test_split\n",
    "import tensorflow as tf\n",
    "import os\n",
    "from utils import model\n",
    "from utils import processing_functions\n",
    "from sklearn.preprocessing import OneHotEncoder\n",
    "import joblib"
   ],
   "outputs": [],
   "metadata": {}
  },
  {
   "cell_type": "markdown",
   "source": [
    "# Download and Process Data"
   ],
   "metadata": {}
  },
  {
   "cell_type": "code",
   "execution_count": null,
   "source": [
    "\n",
    "with open('../code/astros_config.yaml', 'r') as file:\n",
    "    config = yaml.safe_load(file)\n",
    "\n",
    "\n",
    "df = processing_functions.download_data(config)\n",
    "processing_functions.process_data(pitch_ids=df['pitch_ids'].values,keep_wavs=False)"
   ],
   "outputs": [],
   "metadata": {}
  },
  {
   "cell_type": "markdown",
   "source": [
    "# Load Data"
   ],
   "metadata": {}
  },
  {
   "cell_type": "code",
   "execution_count": null,
   "source": [
    "\n",
    "\n",
    "# get pitch dataframe\n",
    "df = processing_functions.get_pitch_metadata()\n",
    "\n",
    "\n",
    "# pull images\n",
    "X_image_data = processing_functions.get_images(df['pitch_id'].values)\n",
    "enc = OneHotEncoder()\n",
    "X_meta_data = enc.fit_transform(df[['batter']])\n",
    "joblib.dump(enc, '../trained_models/example_model/metadata_processor.joblib')\n",
    "df['label']=df['pitch'].isin(['CU','SL','CH','KC','FC','EP'])*1\n",
    "y = df['label']\n",
    "\n"
   ],
   "outputs": [],
   "metadata": {}
  },
  {
   "cell_type": "markdown",
   "source": [
    "# Fit Model"
   ],
   "metadata": {}
  },
  {
   "cell_type": "code",
   "execution_count": null,
   "source": [
    "\n",
    "# create train and test datasets\n",
    "X_image_train, X_image_test, X_meta_train, X_meta_test, y_train, y_test = train_test_split(X_image_data,X_meta_data, y,test_size=0.2)\n",
    "\n",
    "\n",
    "# fit model\n",
    "input_shape=(128, 108, 1)\n",
    "batch_size = 256\n",
    "num_epoch = 100\n",
    "\n",
    "model = model.PitchModel(image_shape = input_shape)\n",
    "model.compile(optimizer='adam',\n",
    "              loss='binary_crossentropy',\n",
    "              metrics=['accuracy',tf.keras.metrics.AUC()])\n",
    "\n",
    "early_stopping = model.EarlyStoppingWithThreshold(monitor='val_accuracy', patience=5,threshold=np.mean(y_test)+0.05)\n",
    "\n",
    "model_log = model.fit(x= [X_image_train,X_meta_train], y= y_train,\n",
    "          batch_size=batch_size,\n",
    "          epochs=num_epoch,\n",
    "          validation_data=([X_image_test,X_meta_test], y_test),\n",
    "          callbacks=[early_stopping],\n",
    "          verbose=1)\n",
    "\n",
    "print(model.summary())\n",
    "model.save(os.paths.join('../trained_models/example_model/model'))"
   ],
   "outputs": [],
   "metadata": {}
  }
 ],
 "metadata": {
  "orig_nbformat": 4,
  "language_info": {
   "name": "python",
   "version": "3.8.5"
  },
  "kernelspec": {
   "name": "python3",
   "display_name": "Python 3.8.5 64-bit ('ml': conda)"
  },
  "interpreter": {
   "hash": "1dc857e89a87c43996f2fe6ae944d8ab4d518466b22502c471f7fed9f703d1eb"
  }
 },
 "nbformat": 4,
 "nbformat_minor": 2
}